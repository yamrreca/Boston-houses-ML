{
 "cells": [
  {
   "cell_type": "markdown",
   "metadata": {},
   "source": [
    "To do:\n",
    "* Write a class for preprocessing in a pipeline:\n",
    "    * Add the option to remove the NOX variable.\n",
    "    * Apply logarithm to PTRATIO, INDUS, and TAX.\n",
    "* Use only top predictors (corr >= 0.5)"
   ]
  },
  {
   "cell_type": "code",
   "execution_count": 1,
   "metadata": {},
   "outputs": [],
   "source": [
    "import numpy as np\n",
    "import pandas as pd\n",
    "import matplotlib.pyplot as plt\n",
    "import seaborn as sns\n",
    "\n",
    "from pprint import pprint\n",
    "from math import ceil\n",
    "\n",
    "import warnings\n",
    "warnings.filterwarnings('ignore')\n",
    "\n",
    "from sklearn.datasets import load_boston\n",
    "from sklearn.model_selection import train_test_split\n",
    "from sklearn.preprocessing import StandardScaler\n",
    "\n",
    "from sklearn.linear_model import LinearRegression\n",
    "from sklearn.metrics import mean_squared_error\n",
    "from sklearn.model_selection import cross_val_score\n",
    "\n",
    "from sklearn.base import BaseEstimator, TransformerMixin\n",
    "from sklearn.preprocessing import PolynomialFeatures\n",
    "from sklearn.pipeline import Pipeline\n",
    "from sklearn.model_selection import GridSearchCV\n",
    "\n",
    "from sklearn.svm import SVR\n",
    "from sklearn.ensemble import RandomForestRegressor\n",
    "\n",
    "from sklearn.pipeline import make_pipeline \n",
    "\n",
    "from sklearn.preprocessing import MinMaxScaler"
   ]
  },
  {
   "cell_type": "code",
   "execution_count": 2,
   "metadata": {},
   "outputs": [],
   "source": [
    "def rm_outliers_below(df, columns):\n",
    "    \"\"\"Returns its input dataframe without the lower outliers of the features given in the columns iterable.\"\"\"\n",
    "    df2 = df.copy()\n",
    "    if type(df) == 'pandas.core.frame.DataFrame':\n",
    "        for column in columns:\n",
    "            Q1 = df2[column].quantile(0.25)\n",
    "            Q3 = df2[column].quantile(0.75)\n",
    "            mult = 1.5*(Q3-Q1)\n",
    "            outlier_ix = df2[df2[column] <= Q1 - mult].index\n",
    "            df2.drop(index=outlier_ix, inplace = True)\n",
    "    elif type(df) == 'pandas.core.series.Series':\n",
    "        Q1 = df2.quantile(0.25)\n",
    "        Q3 = df2.quantile(0.75)\n",
    "        mult = 1.5*(Q3-Q1)\n",
    "        outlier_ix = df2[df2 <= Q1 - mult].index\n",
    "        df2.drop(index=outlier_ix, inplace = True)\n",
    "        \n",
    "    return df2"
   ]
  },
  {
   "cell_type": "code",
   "execution_count": 3,
   "metadata": {},
   "outputs": [],
   "source": [
    "def rm_outliers_above(df, columns):\n",
    "    \"\"\"Returns its input dataframe without the upper outliers of the features given in the columns iterable.\"\"\"\n",
    "    df2 = df.copy()\n",
    "    for column in columns:\n",
    "        if type(df) == 'pandas.core.frame.DataFrame':\n",
    "            Q1 = df2[column].quantile(0.25)\n",
    "            Q3 = df2[column].quantile(0.75)\n",
    "            mult = 1.5*(Q3-Q1)\n",
    "            outlier_ix = df2[df2[column] >= Q3 + mult].index\n",
    "            df2.drop(index=outlier_ix, inplace = True)\n",
    "        elif type(df) == 'pandas.core.series.Series':\n",
    "            Q1 = df2.quantile(0.25)\n",
    "            Q3 = df2.quantile(0.75)\n",
    "            mult = 1.5*(Q3-Q1)\n",
    "            outlier_ix = df2[df2 >= Q3 + mult].index\n",
    "            df2.drop(index=outlier_ix, inplace = True)\n",
    "        \n",
    "    return df2"
   ]
  },
  {
   "cell_type": "code",
   "execution_count": 4,
   "metadata": {},
   "outputs": [],
   "source": [
    "def reduce_skew(df):\n",
    "    \"\"\"Applies the logarithm to the columns with a skewness greater than 0.5 (not absolute value).\"\"\"\n",
    "    df2 = df.copy()\n",
    "    if type(df) == 'pandas.core.frame.DataFrame':\n",
    "        for column in df.columns:\n",
    "            if df2[column].skew() >= 0.5:\n",
    "                df2[column] = np.log(df2[column])\n",
    "    elif type(df) == 'pandas.core.series.Series':\n",
    "        if df2.skew() >= 0.5:\n",
    "                df2 = np.log(df2)\n",
    "    \n",
    "    return df2"
   ]
  },
  {
   "cell_type": "code",
   "execution_count": 54,
   "metadata": {},
   "outputs": [],
   "source": [
    "class FeatureTransformer(BaseEstimator, TransformerMixin):\n",
    "    def __init__(self, poly_features=None, max_degree=3, rm_outliers=None):\n",
    "        self.poly_features = poly_features #List of features to make polynomial\n",
    "        self.max_degree = max_degree #Maximum polynomial degree\n",
    "        self.rm_outliers = rm_outliers #Features to remove upper outliers from\n",
    "    def fit(self, X, y=None):\n",
    "        return self\n",
    "    def transform(self, X, y=None):\n",
    "        X_temp = X.copy()\n",
    "        #Remove outliers\n",
    "        if self.rm_outliers is not None:\n",
    "            X_temp = rm_outliers_above(X_temp, self.rm_outliers)\n",
    "        #Apply log to reduce skew\n",
    "        X_temp = reduce_skew(X_temp)\n",
    "        #Make polynomial features\n",
    "        if self.poly_features is not None:\n",
    "            poly_feat_transformer = PolynomialFeatures(degree=self.max_degree)\n",
    "            X_temp = poly_feat_transformer.fit_transform(X_temp[self.poly_features])\n",
    "        \n",
    "        return X_temp"
   ]
  },
  {
   "cell_type": "code",
   "execution_count": 6,
   "metadata": {},
   "outputs": [],
   "source": [
    "def pipeline_grid_search_eval( X_train, y_train, pipe, param_grid):\n",
    "    \"\"\"Runs the given datasets through a pipeline, performs a grid search and evaluates its performance through\n",
    "    cross-validation and mean squared error.\n",
    "    \n",
    "    Arguments:\n",
    "    -pipeline: Sklearn pipeline object. An ML model must be trained at some step in the pipe.\n",
    "    -param_grid: List of dictionaries with the hyperparamaters to try in the grid search.\n",
    "    -X_train: NumPy array with the features to be trained on.\n",
    "    -y_train: NumPy array with the labels used to train and evaluate.\n",
    "    \n",
    "    Returns:\n",
    "    search_res: The fit GridSearchCV\n",
    "    \"\"\"\n",
    "    grid_search = GridSearchCV(pipe, param_grid, cv=5, scoring='neg_mean_squared_error', n_jobs=-1)\n",
    "    search_res = grid_search.fit(X_train, y_train)\n",
    "    \n",
    "    best_cv_score = np.sqrt(-search_res.best_score_)\n",
    "    best_cv_std = np.sqrt(search_res.cv_results_['std_test_score'][search_res.best_index_])\n",
    "    best_model = search_res.best_estimator_\n",
    "    best_y_hat = best_model.predict(X_train)\n",
    "    best_train_score = np.sqrt(mean_squared_error(y_train, best_y_hat))\n",
    "    best_train_std = np.std((y_train - best_y_hat)**2)\n",
    "    \n",
    "    pprint('Best paramaters:\\n' + str(search_res.best_params_))\n",
    "    print('\\n')\n",
    "    print('''CV error: %.2f +- %.2f\n",
    "train error: %.2f +- %.2f\n",
    "Label mean for comparison: %.2f'''%(best_cv_score, best_cv_std,\n",
    "                                    best_train_score, best_train_std,\n",
    "                                    y_train.mean()))\n",
    "    \n",
    "    return search_res"
   ]
  },
  {
   "cell_type": "markdown",
   "metadata": {},
   "source": [
    "## Obtaining train and test sets"
   ]
  },
  {
   "cell_type": "code",
   "execution_count": 7,
   "metadata": {},
   "outputs": [],
   "source": [
    "X_train = pd.read_csv('X_train.csv')\n",
    "y_train = pd.read_csv('y_train.csv')\n",
    "X_test = pd.read_csv('X_test.csv')\n",
    "y_test = pd.read_csv('y_test.csv')"
   ]
  },
  {
   "cell_type": "code",
   "execution_count": 8,
   "metadata": {},
   "outputs": [
    {
     "data": {
      "text/plain": [
       "(404, 13)"
      ]
     },
     "execution_count": 8,
     "metadata": {},
     "output_type": "execute_result"
    }
   ],
   "source": [
    "X_train.shape"
   ]
  },
  {
   "cell_type": "markdown",
   "metadata": {},
   "source": [
    "# First model"
   ]
  },
  {
   "cell_type": "markdown",
   "metadata": {},
   "source": [
    "I'll apply a simple first model to get an idea of how it well it performs. I'll use all features with a correlation coefficient with the target greater than 0.5, except for the RAD variable due to its extremely high correlation with TAX."
   ]
  },
  {
   "cell_type": "code",
   "execution_count": 9,
   "metadata": {},
   "outputs": [],
   "source": [
    "X2 = pd.merge(X_train, y_train, left_index = True, right_index=True)"
   ]
  },
  {
   "cell_type": "code",
   "execution_count": 10,
   "metadata": {},
   "outputs": [],
   "source": [
    "#Removing outliers from y2_train\n",
    "#X2 = rm_outliers_above(X2, ['target'])\n",
    "outlier_ix = X2[X2['target'] >= 50].index\n",
    "X2.drop(index=outlier_ix, inplace=True)"
   ]
  },
  {
   "cell_type": "code",
   "execution_count": 11,
   "metadata": {},
   "outputs": [],
   "source": [
    "predictors = ['LSTAT', 'INDUS', 'NOX', 'PTRATIO', 'RM', 'TAX', 'DIS', 'AGE', 'CRIM']\n",
    "X2_train = X2[predictors].copy()\n",
    "y2_train = X2['target'].copy()"
   ]
  },
  {
   "cell_type": "code",
   "execution_count": 12,
   "metadata": {},
   "outputs": [],
   "source": [
    "X_feat_transformer = FeatureTransformer()\n",
    "standard_scaler = StandardScaler()\n",
    "l_reg = LinearRegression()\n",
    "pipe = make_pipeline(X_feat_transformer,\n",
    "    standard_scaler,\n",
    "    l_reg\n",
    ")\n",
    "#X2_train_stand = scaler.fit_transform(X2_train)\n",
    "#X2_train_stand = pd.DataFrame(X2_train_stand, columns=X2_train.columns)"
   ]
  },
  {
   "cell_type": "code",
   "execution_count": 13,
   "metadata": {},
   "outputs": [],
   "source": [
    "#pipe.fit(X2_train, y2_train)"
   ]
  },
  {
   "cell_type": "code",
   "execution_count": 14,
   "metadata": {},
   "outputs": [],
   "source": [
    "y2_train = np.log(y2_train)"
   ]
  },
  {
   "cell_type": "code",
   "execution_count": 16,
   "metadata": {},
   "outputs": [
    {
     "name": "stdout",
     "output_type": "stream",
     "text": [
      "Estamos transformando\n",
      "Estamos transformando\n",
      "Estamos transformando\n",
      "Estamos transformando\n",
      "Estamos transformando\n",
      "Estamos transformando\n",
      "Estamos transformando\n",
      "Estamos transformando\n",
      "Estamos transformando\n",
      "Estamos transformando\n"
     ]
    }
   ],
   "source": [
    "cv_scores = cross_val_score(pipe, X2_train, y2_train, cv=5, scoring='neg_mean_squared_error')\n",
    "cv_score = np.sqrt(-cv_scores.mean())\n",
    "cv_std = cv_scores.std()"
   ]
  },
  {
   "cell_type": "code",
   "execution_count": 17,
   "metadata": {},
   "outputs": [],
   "source": [
    "l_reg.fit(X2_train, y2_train)\n",
    "train_score = np.sqrt(mean_squared_error(y2_train, l_reg.predict(X2_train)))"
   ]
  },
  {
   "cell_type": "code",
   "execution_count": 18,
   "metadata": {},
   "outputs": [
    {
     "name": "stdout",
     "output_type": "stream",
     "text": [
      "CV score: 0.18 +/- 0.01\n",
      "train score: 0.17\n",
      "Label mean for comparison: 22.80\n"
     ]
    }
   ],
   "source": [
    "print('CV score: %.2f +/- %.2f\\ntrain score: %.2f\\nLabel mean for comparison: %.2f'%(cv_score, cv_std, train_score, y_train.mean()))"
   ]
  },
  {
   "cell_type": "markdown",
   "metadata": {},
   "source": [
    "Pretty good, but could be better. I'll try to engineer a couple of features next."
   ]
  },
  {
   "cell_type": "markdown",
   "metadata": {},
   "source": [
    "# Feature engineering"
   ]
  },
  {
   "cell_type": "code",
   "execution_count": 19,
   "metadata": {},
   "outputs": [],
   "source": [
    "poly_features = [predictors]\n",
    "param_grid = [\n",
    "    {'feature_transformer__poly_features':poly_features,\n",
    "     'feature_transformer__max_degree':list(range(2,5))\n",
    "    }\n",
    "]"
   ]
  },
  {
   "cell_type": "code",
   "execution_count": 20,
   "metadata": {},
   "outputs": [],
   "source": [
    "pipe = Pipeline([\n",
    "    ('feature_transformer', FeatureTransformer()),\n",
    "    ('standardization', StandardScaler()),\n",
    "    ('linear_reg', LinearRegression())\n",
    "])"
   ]
  },
  {
   "cell_type": "code",
   "execution_count": 21,
   "metadata": {},
   "outputs": [],
   "source": [
    "X2_train = X2[predictors].copy()"
   ]
  },
  {
   "cell_type": "code",
   "execution_count": 22,
   "metadata": {},
   "outputs": [
    {
     "name": "stdout",
     "output_type": "stream",
     "text": [
      "Estamos transformando\n",
      "Estamos transformando\n",
      "('Best paramaters:\\n'\n",
      " \"{'feature_transformer__max_degree': 2, 'feature_transformer__poly_features': \"\n",
      " \"['LSTAT', 'INDUS', 'NOX', 'PTRATIO', 'RM', 'TAX', 'DIS', 'AGE', 'CRIM']}\")\n",
      "\n",
      "\n",
      "CV error: 0.32 +- 0.31\n",
      "train error: 0.12 +- 0.03\n",
      "Label mean for comparison: 3.07\n"
     ]
    }
   ],
   "source": [
    "search_res = pipeline_grid_search_eval(X2_train, y2_train, pipe, param_grid)"
   ]
  },
  {
   "cell_type": "markdown",
   "metadata": {},
   "source": [
    "With the new polynomial features, the train score diminished, but the CV score increased, meaning the model is overfitting. I'll try adding regularization."
   ]
  },
  {
   "cell_type": "code",
   "execution_count": 23,
   "metadata": {},
   "outputs": [],
   "source": [
    "from sklearn.linear_model import Ridge"
   ]
  },
  {
   "cell_type": "code",
   "execution_count": 24,
   "metadata": {},
   "outputs": [],
   "source": [
    "reg_param_grid = [\n",
    "    {'feature_transformer__poly_features':poly_features,\n",
    "     'feature_transformer__max_degree':list(range(2,6)),\n",
    "     'ridge_reg__alpha':np.arange(9,15)}\n",
    "]"
   ]
  },
  {
   "cell_type": "code",
   "execution_count": 25,
   "metadata": {},
   "outputs": [],
   "source": [
    "reg_pipe = Pipeline([\n",
    "    ('feature_transformer', FeatureTransformer()),\n",
    "    ('standardization', StandardScaler()),\n",
    "    ('ridge_reg', Ridge())\n",
    "])"
   ]
  },
  {
   "cell_type": "code",
   "execution_count": 26,
   "metadata": {},
   "outputs": [
    {
     "name": "stdout",
     "output_type": "stream",
     "text": [
      "Estamos transformando\n",
      "Estamos transformando\n",
      "('Best paramaters:\\n'\n",
      " \"{'feature_transformer__max_degree': 4, 'feature_transformer__poly_features': \"\n",
      " \"['LSTAT', 'INDUS', 'NOX', 'PTRATIO', 'RM', 'TAX', 'DIS', 'AGE', 'CRIM'], \"\n",
      " \"'ridge_reg__alpha': 11}\")\n",
      "\n",
      "\n",
      "CV error: 0.15 +- 0.07\n",
      "train error: 0.12 +- 0.03\n",
      "Label mean for comparison: 3.07\n"
     ]
    }
   ],
   "source": [
    "search_res_reg = pipeline_grid_search_eval(X2_train, y2_train, reg_pipe, reg_param_grid)"
   ]
  },
  {
   "cell_type": "markdown",
   "metadata": {},
   "source": [
    "It improved. Let's see if a different model makes it even better."
   ]
  },
  {
   "cell_type": "markdown",
   "metadata": {},
   "source": [
    "# Support vector regressor"
   ]
  },
  {
   "cell_type": "code",
   "execution_count": 27,
   "metadata": {},
   "outputs": [],
   "source": [
    "svr_pipe = Pipeline([\n",
    "    ('feature_transformer', FeatureTransformer()),\n",
    "    ('standardization', StandardScaler()),\n",
    "    ('SVR', SVR())\n",
    "])\n",
    "\n",
    "#Defining a new parameter grid for the SVR\n",
    "svr_param_grid = [\n",
    "    {'SVR__gamma':np.arange(1,11),\n",
    "     'SVR__C':np.arange(10,21),\n",
    "     'SVR__kernel':['linear','rbf']}\n",
    "]"
   ]
  },
  {
   "cell_type": "code",
   "execution_count": 28,
   "metadata": {},
   "outputs": [],
   "source": [
    "#search_res_svr = pipeline_grid_search_eval(X2_train, y2_train, svr_pipe, svr_param_grid)"
   ]
  },
  {
   "cell_type": "markdown",
   "metadata": {},
   "source": [
    "This one performs worse than the linear model."
   ]
  },
  {
   "cell_type": "markdown",
   "metadata": {},
   "source": [
    "# Linear regression analysis"
   ]
  },
  {
   "cell_type": "markdown",
   "metadata": {},
   "source": [
    "From the two models, the regularized polynomial regression performed best. I'll analyze the residuals to check that the OLS assumptions are being met."
   ]
  },
  {
   "cell_type": "code",
   "execution_count": 29,
   "metadata": {},
   "outputs": [
    {
     "data": {
      "text/plain": [
       "{'feature_transformer__max_degree': 4,\n",
       " 'feature_transformer__poly_features': ['LSTAT',\n",
       "  'INDUS',\n",
       "  'NOX',\n",
       "  'PTRATIO',\n",
       "  'RM',\n",
       "  'TAX',\n",
       "  'DIS',\n",
       "  'AGE',\n",
       "  'CRIM'],\n",
       " 'ridge_reg__alpha': 11}"
      ]
     },
     "execution_count": 29,
     "metadata": {},
     "output_type": "execute_result"
    }
   ],
   "source": [
    "search_res_reg.best_params_"
   ]
  },
  {
   "cell_type": "code",
   "execution_count": 30,
   "metadata": {},
   "outputs": [],
   "source": [
    "best_model = search_res_reg.best_estimator_"
   ]
  },
  {
   "cell_type": "code",
   "execution_count": 55,
   "metadata": {},
   "outputs": [],
   "source": [
    "best_model = Pipeline([\n",
    "    ('feature_transformer', FeatureTransformer(max_degree=4, poly_features=X2_train.columns)),\n",
    "    ('standardization', StandardScaler()),\n",
    "    ('ridge_reg', Ridge(alpha=11))\n",
    "])"
   ]
  },
  {
   "cell_type": "code",
   "execution_count": 44,
   "metadata": {},
   "outputs": [
    {
     "name": "stdout",
     "output_type": "stream",
     "text": [
      "Estamos transformando\n"
     ]
    },
    {
     "data": {
      "text/plain": [
       "Pipeline(steps=[('feature_transformer',\n",
       "                 FeatureTransformer(max_degree=4,\n",
       "                                    poly_features=Index(['LSTAT', 'INDUS', 'NOX', 'PTRATIO', 'RM', 'TAX', 'DIS', 'AGE', 'CRIM'], dtype='object'))),\n",
       "                ('standardization', StandardScaler()),\n",
       "                ('ridge_reg', Ridge(alpha=11))])"
      ]
     },
     "execution_count": 44,
     "metadata": {},
     "output_type": "execute_result"
    }
   ],
   "source": [
    "best_model.fit(X2_train, y2_train)"
   ]
  },
  {
   "cell_type": "code",
   "execution_count": 45,
   "metadata": {},
   "outputs": [
    {
     "name": "stdout",
     "output_type": "stream",
     "text": [
      "Estamos transformando\n"
     ]
    }
   ],
   "source": [
    "y2_hat = np.exp(best_model.predict(X2_train)) #Remember a log was applied"
   ]
  },
  {
   "cell_type": "code",
   "execution_count": 46,
   "metadata": {},
   "outputs": [],
   "source": [
    "resid = y2_hat - np.exp(y2_train)"
   ]
  },
  {
   "cell_type": "code",
   "execution_count": 47,
   "metadata": {},
   "outputs": [
    {
     "data": {
      "image/png": "[encoded data removed]",
      "text/plain": [
       "<Figure size 432x288 with 1 Axes>"
      ]
     },
     "metadata": {
      "needs_background": "light"
     },
     "output_type": "display_data"
    }
   ],
   "source": [
    "xmin = 4\n",
    "xmax = 45\n",
    "plt.scatter(y2_hat, resid.values)\n",
    "plt.xlim(xmin, xmax)\n",
    "plt.title('Residual plot')\n",
    "plt.xlabel('y_hat', fontsize=11)\n",
    "plt.ylabel('Res(i)', fontsize=11)\n",
    "plt.hlines(0, xmin=xmin, xmax=xmax);"
   ]
  },
  {
   "cell_type": "code",
   "execution_count": 48,
   "metadata": {},
   "outputs": [
    {
     "data": {
      "image/png": "[encoded data removed]",
      "text/plain": [
       "<Figure size 432x288 with 1 Axes>"
      ]
     },
     "metadata": {
      "needs_background": "light"
     },
     "output_type": "display_data"
    }
   ],
   "source": [
    "sns.distplot(resid, bins=30)\n",
    "plt.title('Residuals');"
   ]
  },
  {
   "cell_type": "code",
   "execution_count": 49,
   "metadata": {},
   "outputs": [],
   "source": [
    "from statsmodels.graphics.gofplots import qqplot"
   ]
  },
  {
   "cell_type": "code",
   "execution_count": 50,
   "metadata": {},
   "outputs": [],
   "source": [
    "from scipy.stats.distributions import norm"
   ]
  },
  {
   "cell_type": "code",
   "execution_count": 51,
   "metadata": {},
   "outputs": [
    {
     "data": {
      "image/png": "[encoded data removed]",
      "text/plain": [
       "<Figure size 432x288 with 1 Axes>"
      ]
     },
     "execution_count": 51,
     "metadata": {},
     "output_type": "execute_result"
    },
    {
     "data": {
      "image/png": "[encoded data removed]",
      "text/plain": [
       "<Figure size 432x288 with 1 Axes>"
      ]
     },
     "metadata": {
      "needs_background": "light"
     },
     "output_type": "display_data"
    }
   ],
   "source": [
    "qqplot(resid, line='45', dist = norm(scale=resid.std()))"
   ]
  },
  {
   "cell_type": "markdown",
   "metadata": {},
   "source": [
    "Beyond a couple of outliers, the residual distribution looks pretty good."
   ]
  },
  {
   "cell_type": "markdown",
   "metadata": {},
   "source": [
    "# Performance on test set"
   ]
  },
  {
   "cell_type": "code",
   "execution_count": 56,
   "metadata": {},
   "outputs": [
    {
     "data": {
      "text/plain": [
       "Pipeline(steps=[('feature_transformer',\n",
       "                 FeatureTransformer(max_degree=4,\n",
       "                                    poly_features=Index(['LSTAT', 'INDUS', 'NOX', 'PTRATIO', 'RM', 'TAX', 'DIS', 'AGE', 'CRIM'], dtype='object'))),\n",
       "                ('standardization', StandardScaler()),\n",
       "                ('ridge_reg', Ridge(alpha=11))])"
      ]
     },
     "execution_count": 56,
     "metadata": {},
     "output_type": "execute_result"
    }
   ],
   "source": [
    "best_model.fit(X2_train, y2_train)"
   ]
  },
  {
   "cell_type": "code",
   "execution_count": 66,
   "metadata": {},
   "outputs": [],
   "source": [
    "y_hat_test = best_model.predict(X_test).reshape((-1,1))"
   ]
  },
  {
   "cell_type": "code",
   "execution_count": 72,
   "metadata": {},
   "outputs": [],
   "source": [
    "test_error = np.sqrt(mean_squared_error(np.log(y_test), best_model.predict(X_test)))\n",
    "test_std = np.std((np.log(y_test) - y_hat_test)**2)"
   ]
  },
  {
   "cell_type": "code",
   "execution_count": 73,
   "metadata": {},
   "outputs": [
    {
     "name": "stdout",
     "output_type": "stream",
     "text": [
      "CV error: 0.15 +- 0.07\n",
      "train error: 0.12 +- 0.03\n",
      "test error: 0.16 +- 0.07\n",
      "Label mean for comparison: 3.07\n"
     ]
    }
   ],
   "source": [
    "print(\"\"\"CV error: 0.15 +- 0.07\n",
    "train error: 0.12 +- 0.03\n",
    "test error: %.2f +- %.2f\n",
    "Label mean for comparison: 3.07\"\"\"%(test_error, test_std))"
   ]
  },
  {
   "cell_type": "code",
   "execution_count": null,
   "metadata": {},
   "outputs": [],
   "source": [
    "best_cv_score = np.sqrt(-search_res.best_score_)\n",
    "best_cv_std = np.sqrt(search_res.cv_results_['std_test_score'][search_res.best_index_])\n",
    "best_model = search_res.best_estimator_\n",
    "best_y_hat = best_model.predict(X_train)\n",
    "best_train_score = np.sqrt(mean_squared_error(y_train, best_y_hat))\n",
    "best_train_std = np.std((y_train - best_y_hat)**2)"
   ]
  },
  {
   "cell_type": "code",
   "execution_count": 77,
   "metadata": {},
   "outputs": [],
   "source": [
    "cv_error_real = np.exp(0.15)\n",
    "cv_std_real = np.exp(0.07)\n",
    "train_error_real = np.exp(0.12)\n",
    "train_std_real = np.exp(0.03)\n",
    "test_error_real = np.exp(test_error)\n",
    "test_std_real = np.exp(test_std)\n",
    "label_mean_real = np.exp(3.07)"
   ]
  },
  {
   "cell_type": "code",
   "execution_count": 78,
   "metadata": {},
   "outputs": [
    {
     "name": "stdout",
     "output_type": "stream",
     "text": [
      "CV error: 1.16 +- 1.07\n",
      "train error: 1.13 +- 1.03\n",
      "test error: 1.18 +- 1.07\n",
      "Label mean for comparison: 21.54\n"
     ]
    }
   ],
   "source": [
    "print(\"\"\"CV error: %.2f +- %.2f\n",
    "train error: %.2f +- %.2f\n",
    "test error: %.2f +- %.2f\n",
    "Label mean for comparison: %.2f\"\"\"%(cv_error_real, cv_std_real,\n",
    "                                    train_error_real, train_std_real,\n",
    "                                    test_error_real, test_std_real,\n",
    "                                   label_mean_real))"
   ]
  },
  {
   "cell_type": "markdown",
   "metadata": {},
   "source": [
    "So the model can predict the price, whose mean value is of \\\\$21.54k, while making an error of approximately \\\\$1K +- \\\\$1K."
   ]
  }
 ],
 "metadata": {
  "kernelspec": {
   "display_name": "Python 3",
   "language": "python",
   "name": "python3"
  },
  "language_info": {
   "codemirror_mode": {
    "name": "ipython",
    "version": 3
   },
   "file_extension": ".py",
   "mimetype": "text/x-python",
   "name": "python",
   "nbconvert_exporter": "python",
   "pygments_lexer": "ipython3",
   "version": "3.7.7"
  }
 },
 "nbformat": 4,
 "nbformat_minor": 4
}
